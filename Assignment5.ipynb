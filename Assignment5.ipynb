{
 "cells": [
  {
   "cell_type": "code",
   "execution_count": null,
   "metadata": {},
   "outputs": [],
   "source": [
    "# Problem 1. The quadratic Equation \n",
    "import numpy as np \n",
    "print('                 PROBLEM 1                  ')\n",
    "print('  part A             ')   #(a). Compute quadratic equation formula \n",
    "print('            ')\n",
    "a = float(input('please input the value of a : '))\n",
    "b = float(input('please input the value of b : '))\n",
    "c = float(input('please input the value of c : '))\n",
    "\n",
    "def f(a,b,c):\n",
    "    px = ((-1*b) + (np.math.sqrt((b**2)-(4*a*c)))) / (2*a)\n",
    "    nx = ((-1*b) - (np.math.sqrt((b**2)-(4*a*c)))) / (2*a)\n",
    "    return (px, nx) \n",
    "\n",
    "print('for a,b and c respectively being:',a,',',b,',',c ,'the values for x are',f(a,b,c))\n",
    "\n",
    "\n",
    "#(b)\n",
    "print('               ')\n",
    "print('  part B             ') \n",
    "print('               ')\n",
    "def g(a,b,c):\n",
    "    posx =  (2*c) / ((-1*b) - (np.math.sqrt((b**2)-(4*a*c))))\n",
    "    negx =  (2*c)/  ((-1*b) + (np.math.sqrt((b**2)-(4*a*c))))\n",
    "    return (posx, negx)\n",
    "print('using the second method, the values for x are',g(a,b,c))\n",
    "\n",
    "print('               ')\n",
    "print('  part C             ') \n",
    "print('               ')\n",
    "def h(a,b,c):\n",
    "    px = ((-1*b) + (np.math.sqrt((b**2)-(4*a*c)))) / (2*a)\n",
    "    nx = ((-1*b) - (np.math.sqrt((b**2)-(4*a*c)))) / (2*a)\n",
    "    posx =  (2*c) / ((-1*b) - (np.math.sqrt((b**2)-(4*a*c))))\n",
    "    negx =  (2*c)/  ((-1*b) + (np.math.sqrt((b**2)-(4*a*c))))\n",
    "    if b > 0 and b > (np.math.sqrt((b**2)-(4*a*c))):\n",
    "        return (px,negx)\n",
    "    elif b < 0 and b < (np.math.sqrt((b**2)-(4*a*c))):\n",
    "        return (posx, nx)\n",
    "    elif b == 0 :\n",
    "        return (px, nx)\n",
    "print('using the acuracy method, the values for x are',h(a,b,c))"
   ]
  },
  {
   "cell_type": "code",
   "execution_count": null,
   "metadata": {},
   "outputs": [],
   "source": [
    "# Problem 2. Semi empirical mass formula\n",
    "print('                 PROBLEM 2                  ')\n",
    "# Defining Variables \n",
    "A = int(input('enter the value of A: '))\n",
    "Z = int(input('enter the value of Z: '))\n",
    "a1= 15.67\n",
    "a2= 17.23\n",
    "a3= 0.75\n",
    "a4= 93.2\n",
    "\n",
    "if A%2 != 0:\n",
    "    a5 =0\n",
    "elif A%2 == 0 and Z%2 == 0:\n",
    "    a5 = 12.0\n",
    "elif A%2 == 0 and Z%2 !=0:\n",
    "    a5 = -12.0\n",
    "print('                ')\n",
    "print('Part A: Binding Energy')\n",
    "B = (a1*A) - ( (a2)*(A**(2/3)) ) - ( (a3)*( (Z**2)/(A**(1/3)) ) ) - ( (a4)*( ((A-2*Z)**2)/(A) )) - (a5/(A**(1/2)) )\n",
    "print('the binding energy for B = ', B,' MeV' )\n",
    "print('                ')\n",
    "print('Part B: Binding Energy per nucleon')\n",
    "E = B/A\n",
    "print('the binding energy per nucleon for B = ', E,' MeV/Kg' )\n",
    "print('                ')\n",
    "print('Note that for A = 59 , Z= 28 and A= 58 , Z = 27 , the values B and E remain the same :', B ,'and', E )    \n",
    "    \n",
    "    \n",
    "    "
   ]
  },
  {
   "cell_type": "code",
   "execution_count": null,
   "metadata": {},
   "outputs": [],
   "source": []
  }
 ],
 "metadata": {
  "kernelspec": {
   "display_name": "Python 3",
   "language": "python",
   "name": "python3"
  },
  "language_info": {
   "codemirror_mode": {
    "name": "ipython",
    "version": 3
   },
   "file_extension": ".py",
   "mimetype": "text/x-python",
   "name": "python",
   "nbconvert_exporter": "python",
   "pygments_lexer": "ipython3",
   "version": "3.7.0"
  }
 },
 "nbformat": 4,
 "nbformat_minor": 2
}
