{
 "cells": [
  {
   "cell_type": "code",
   "execution_count": null,
   "metadata": {},
   "outputs": [],
   "source": [
    "from random import random "
   ]
  },
  {
   "cell_type": "code",
   "execution_count": null,
   "metadata": {},
   "outputs": [],
   "source": [
    "import numpy as np\n",
    "from random import random \n",
    "import matplotlib.pyplot as plt\n",
    "print(                      'Problem 1: Monte Carlo Distribution'     )\n",
    "print(                          '      ')\n",
    "def function(sig,Zo): \n",
    "    r = np.sqrt( -2*(np.log(1- random())) )\n",
    "    theta = 2*np.pi*random()\n",
    "    x = r*np.cos(theta)\n",
    "    return x*sig + Zo\n",
    "\n",
    "n=[]\n",
    "for d in range(1000):\n",
    "    n.append(function(2,-1))\n",
    "print('the random values of z are: ', n)\n",
    "plt.hist(n)\n",
    "plt.xlabel('z values')\n",
    "plt.ylabel('Number of occurence')\n",
    "    \n",
    "\n"
   ]
  },
  {
   "cell_type": "code",
   "execution_count": null,
   "metadata": {},
   "outputs": [],
   "source": [
    "from numpy import arange\n",
    "import numpy as np\n",
    "from random import random \n",
    "import matplotlib.pyplot as plt\n",
    "print(                      'thalium to lead decay'     )\n",
    "NTl = 1000                                              # of thalium atoms\n",
    "NPb = 0                                                 # of lead atoms \n",
    "tau = 3.053*60                                          # half life of Tl\n",
    "h = 1.0                                                 # size of the time step \n",
    "p = 1-2**(-h/tau)                                       #prob of decay in one step \n",
    "tmax = 1000                                             #total time \n",
    "\n",
    "# Create lists of atoms\n",
    "tpoints = arange(0.0, tmax, h)\n",
    "TLpoints = []\n",
    "PBpoints = []\n",
    "\n",
    "#main loop\n",
    "for t in tpoints:\n",
    "    TLpoints.append(NTl)\n",
    "    PBpoints.append(NPb)\n",
    "    # calculate the number of atoms that decay \n",
    "    decay = 0\n",
    "    for i in range(NTl):\n",
    "            if random() < p:\n",
    "                decay += 1\n",
    "    NTl -= decay\n",
    "    NPb += decay\n",
    "\n",
    "#plot figure figure of # of atoms as a function of time\n",
    "fig = plt.figure()\n",
    "ax = fig.add_subplot(111)\n",
    "ax.scatter(tpoints, TLpoints, s= 5, c= 'b', alpha = 0.3)\n",
    "ax.scatter(tpoints, PBpoints, s= 5, c= 'r', alpha = 0.3)\n",
    "ax.set_xlabel(\"$Time$ $(s)$\", size = 20)\n",
    "ax.set_ylabel('# of atoms', size= 20)\n",
    "ax.xaxis.set_tick_params(labelsize= 20)\n",
    "ax.yaxis.set_tick_params(labelsize= 20)\n",
    "                        "
   ]
  },
  {
   "cell_type": "code",
   "execution_count": 10,
   "metadata": {},
   "outputs": [
    {
     "name": "stdout",
     "output_type": "stream",
     "text": [
      "Problem 2: Radioactive Decay\n"
     ]
    },
    {
     "data": {
      "image/png": "[encoded data removed]",
      "text/plain": [
       "<Figure size 432x288 with 1 Axes>"
      ]
     },
     "metadata": {
      "needs_background": "light"
     },
     "output_type": "display_data"
    }
   ],
   "source": [
    "print(                      'Problem 2: Radioactive Decay'     )\n",
    "\n",
    "from numpy import arange\n",
    "import numpy as np\n",
    "from random import random \n",
    "import matplotlib.pyplot as plt\n",
    "\n",
    "\n",
    "NBi213 = 10000                                           # of Bismuth 213 atoms\n",
    "NPb = 0                                                 # of lead atoms\n",
    "NTl = 0                                                 # of thalium atoms\n",
    "NBi209 = 0                                              # of Bismuth 209 atoms\n",
    "tauT = 2.2*60                                           # half life of Tl\n",
    "tauB = 46*60                                            # half life of Bi 213\n",
    "tauP = 3.3*60                                           # half life of Pb\n",
    "h = 1.0                                                 # size of the time step \n",
    "pPB = 1-2**(-h/tauP)                                    #prob of decay in one step for lead \n",
    "pBi = 1-2**(-h/tauB)\n",
    "tmax = 1000                                             #total time \n",
    "Bi209 = 0\n",
    "                                                        # Create lists of atoms\n",
    "tpoints = arange(0.0, tmax, h)\n",
    "TLpoints = []\n",
    "PBpoints = []\n",
    "BIpoints = [] \n",
    "for t in tpoints:\n",
    "    TLpoints.append(NTl)\n",
    "    PBpoints.append(NPb)\n",
    "    BIpoints.append(NBi209)\n",
    "    # calculate the number of atoms that decay \n",
    "    decay = 0\n",
    "    rest = 0\n",
    "    b = 0\n",
    "    d = 0\n",
    "    for i in range(NBi213):\n",
    "        if random() < 0.0209:\n",
    "            decay += 1\n",
    "        else:\n",
    "            rest += 1\n",
    "    NBi213 -= decay\n",
    "    NTl += decay\n",
    "    NPb += rest\n",
    "    for a in range(NTl):\n",
    "        if random() < tauT:\n",
    "            b += 1\n",
    "    NTl -= b\n",
    "    NPb += b\n",
    "    \n",
    "    for c in range(NPb) :\n",
    "        if random() < tauP:\n",
    "            d +=1\n",
    "    NPb -= d\n",
    "    NBi209 += d\n",
    "        \n",
    "#plot figure figure of # of atoms as a function of time\n",
    "fig = plt.figure()\n",
    "ax = fig.add_subplot(111)\n",
    "ax.scatter(tpoints, TLpoints, s= 5, c= 'b', alpha = 0.3)\n",
    "ax.scatter(tpoints, PBpoints, s= 5, c= 'r', alpha = 0.3)\n",
    "ax.scatter(tpoints, BIpoints, s= 5, c= 'y', alpha = 0.3)\n",
    "#ax.scatter(tpoints, NBi213, s= 5, c= 'g', alpha = 0.3)\n",
    "ax.set_xlabel(\"$Time$ $(s)$\", size = 20)\n",
    "ax.set_ylabel('# of atoms', size= 20)\n",
    "ax.xaxis.set_tick_params(labelsize= 20)\n",
    "ax.yaxis.set_tick_params(labelsize= 20)        "
   ]
  },
  {
   "cell_type": "code",
   "execution_count": null,
   "metadata": {},
   "outputs": [],
   "source": []
  }
 ],
 "metadata": {
  "kernelspec": {
   "display_name": "Python 3",
   "language": "python",
   "name": "python3"
  },
  "language_info": {
   "codemirror_mode": {
    "name": "ipython",
    "version": 3
   },
   "file_extension": ".py",
   "mimetype": "text/x-python",
   "name": "python",
   "nbconvert_exporter": "python",
   "pygments_lexer": "ipython3",
   "version": "3.7.0"
  }
 },
 "nbformat": 4,
 "nbformat_minor": 2
}
