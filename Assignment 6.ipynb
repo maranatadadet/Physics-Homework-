{
 "cells": [
  {
   "cell_type": "code",
   "execution_count": null,
   "metadata": {},
   "outputs": [],
   "source": [
    "import numpy as np\n",
    "print(                                  'Problem 1 : FizzBuzz'  )\n",
    "for n in range(1,101):\n",
    "    if n%3 ==0 and n%5 !=0 :\n",
    "        print('Fizz')\n",
    "    elif n%5 ==0 and n%3 !=0:\n",
    "        print('Buzz')\n",
    "    elif n%3 ==0 and n%5 ==0:\n",
    "        print('FizzBuzz')\n",
    "    else:\n",
    "        print(n)\n"
   ]
  },
  {
   "cell_type": "code",
   "execution_count": 26,
   "metadata": {},
   "outputs": [
    {
     "name": "stdout",
     "output_type": "stream",
     "text": [
      "Problem 2 : Heat Capacity\n",
      "Enter the temperature: 5\n"
     ]
    },
    {
     "name": "stderr",
     "output_type": "stream",
     "text": [
      "/anaconda3/lib/python3.7/site-packages/ipykernel_launcher.py:16: RuntimeWarning: invalid value encountered in double_scalars\n",
      "  app.launch_new_instance()\n"
     ]
    }
   ],
   "source": [
    "import numpy as np\n",
    "print(                                  'Problem 2 : Heat Capacity'  )\n",
    "# Defining Variables\n",
    "\n",
    "V = 0.001  #Volume. 1000cm**3 in m**3\n",
    "p = 6.022*(10**28) # density of the atom in m**-3\n",
    "kb = 1.38064852*(10**(-23))   # Boltzman Constant in m2 kg s-2 K-1\n",
    "OD = 428      #Debye temperature in Kelvin\n",
    "T = int(input('Enter the temperature: '))\n",
    "a = 0\n",
    "b = OD/T\n",
    "N = 1000\n",
    "step = (b-a)/N\n",
    "A = (9)*(V)*(p)*(kb)*((T/OD)**(3))\n",
    "def f(x):\n",
    "    return ((x**4)*(np.exp(x)))  /  (((np.exp(x))-1)**2)\n",
    "\n",
    "integral = 0.5 * (f(a) + f(b))\n",
    "for i in range(N):\n",
    "    integral += f(a + step * i)\n",
    "integral *= step\n",
    "#print(\"Integral is equal to: \", integral)\n",
    "\n",
    "def Cv(T):\n",
    "    Cv = A + integral\n",
    "    return cv"
   ]
  },
  {
   "cell_type": "code",
   "execution_count": null,
   "metadata": {},
   "outputs": [],
   "source": []
  }
 ],
 "metadata": {
  "kernelspec": {
   "display_name": "Python 3",
   "language": "python",
   "name": "python3"
  },
  "language_info": {
   "codemirror_mode": {
    "name": "ipython",
    "version": 3
   },
   "file_extension": ".py",
   "mimetype": "text/x-python",
   "name": "python",
   "nbconvert_exporter": "python",
   "pygments_lexer": "ipython3",
   "version": "3.7.0"
  }
 },
 "nbformat": 4,
 "nbformat_minor": 2
}
