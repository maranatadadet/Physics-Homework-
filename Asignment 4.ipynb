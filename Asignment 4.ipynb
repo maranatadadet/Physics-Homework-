{
 "cells": [
  {
   "cell_type": "code",
   "execution_count": null,
   "metadata": {},
   "outputs": [],
   "source": [
    "# CONDITIONALS\n",
    "\n",
    "# This code chooses responses in accordance to the location and the pay offered\n",
    "\n",
    "pay = int(input('enter pay'))\n",
    "location = input('enter location')\n",
    "if location == \"uss enterprise\":\n",
    "    print(\"so long, suckers! I'll take it!\")   #if the location is space, the candidate will take the job\n",
    "elif location == 'Massachusetts':\n",
    "    if pay < 100000:\n",
    "        print ('no way')   # if the location is in MA which the candidate hates, he will not settle for less than $100k\n",
    "    else:\n",
    "        print ('ill take it!')\n",
    "elif location == 'california' and pay > 40000:    # if the location is california and the pay is greater than 40k  \n",
    "    print ('ill take it!')\n",
    "else:\n",
    "    print('no thanks, I can find something better')"
   ]
  },
  {
   "cell_type": "code",
   "execution_count": null,
   "metadata": {},
   "outputs": [],
   "source": [
    "# FINDING BUGS \n",
    "\n",
    "def quotient(a, b):\n",
    "    a = int(input('input the divident:'))\n",
    "    b = int(input('input the divisor:'))\n",
    "    q = a//b    # interger division\n",
    "    m = a%b     # modulo\n",
    "    print('quotient:',q,'remainder:',m)\n",
    "quotient (10, 7)"
   ]
  },
  {
   "cell_type": "code",
   "execution_count": null,
   "metadata": {},
   "outputs": [],
   "source": [
    "# MYSTERY PROGRAM \n",
    "\n",
    "print('think of a number between 1 and 100, but dont tell me what you chose')\n",
    "min_n = 1\n",
    "max_n = 100 \n",
    "right_answer = False \n",
    "\n",
    "while not right_answer:\n",
    "    mid_n = (max_n + min_n + 1)//2\n",
    "    answer = input('Is it'+ str(mid_n)+ '?')\n",
    "    if answer[0] == 'y':\n",
    "        right_answer = True\n",
    "    elif answer.startswith('higher'):\n",
    "        min_n = mid_n+1\n",
    "    elif answer.startswith('lower'):\n",
    "        max_n = mid_n-1\n",
    "    else:\n",
    "        print('sorry, I dont understand your answer.')\n",
    "print ('Whoohoo! I got it!')"
   ]
  },
  {
   "cell_type": "code",
   "execution_count": null,
   "metadata": {},
   "outputs": [],
   "source": [
    "a = False \n",
    "b = True \n",
    "c = False \n",
    "print (b and c)\n",
    "print (b or c)\n",
    "print (not a and b)\n",
    "print((a and b) or not c)\n",
    "print(not b and not(a and c))"
   ]
  },
  {
   "cell_type": "code",
   "execution_count": 1,
   "metadata": {
    "scrolled": true
   },
   "outputs": [
    {
     "name": "stdout",
     "output_type": "stream",
     "text": [
      "10\n",
      "9\n",
      "8\n",
      "7\n",
      "6\n",
      "5\n",
      "4\n"
     ]
    }
   ],
   "source": [
    "# Loops----------------\n",
    "# 1/----------------\n",
    "num = 10\n",
    "while num > 3:\n",
    "    print (num)\n",
    "    num = num-1\n",
    "\n",
    "#2/-------------------\n",
    "divisor = 2\n",
    "for i in range(0,10,2):\n",
    "    print(i/divisor)\n",
    "    \n",
    "#3/--------------------\n",
    "num = 10\n",
    "while True:\n",
    "    if num < 7:\n",
    "        break\n",
    "    print (num)\n",
    "    num -= 1\n",
    "    \n",
    "#4/--------------------\n",
    "count = 0\n",
    "for letter in 'snow!':\n",
    "    print ('letter #',count,'is',letter)\n",
    "    count +=1\n",
    "    \n"
   ]
  },
  {
   "cell_type": "code",
   "execution_count": null,
   "metadata": {},
   "outputs": [],
   "source": [
    "# Ben Bitdiddle's problem \n",
    "n = 10\n",
    "i = 10 \n",
    "while i > 0:\n",
    "    print(i)\n",
    "    if i%2 == 0:\n",
    "        i = i/2\n",
    "    else:\n",
    "        i= i+1\n",
    "        \n",
    "# My solution \n",
    "for n in range(11):\n",
    "    if n%2 ==0:\n",
    "        print(n)  "
   ]
  },
  {
   "cell_type": "code",
   "execution_count": null,
   "metadata": {},
   "outputs": [],
   "source": []
  }
 ],
 "metadata": {
  "kernelspec": {
   "display_name": "Python 3",
   "language": "python",
   "name": "python3"
  },
  "language_info": {
   "codemirror_mode": {
    "name": "ipython",
    "version": 3
   },
   "file_extension": ".py",
   "mimetype": "text/x-python",
   "name": "python",
   "nbconvert_exporter": "python",
   "pygments_lexer": "ipython3",
   "version": "3.7.0"
  }
 },
 "nbformat": 4,
 "nbformat_minor": 2
}
